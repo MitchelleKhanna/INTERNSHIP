{
 "cells": [
  {
   "cell_type": "markdown",
   "id": "7ad5f8ca",
   "metadata": {},
   "source": [
    "# Assignment for Regular Expressions\n",
    "# Name: Mitchelle Khanna"
   ]
  },
  {
   "cell_type": "markdown",
   "id": "88ed6725",
   "metadata": {},
   "source": [
    "Question 1- Write a Python program to replace all occurrences of a space, comma, or dot with a colon.\n",
    "Sample Text- 'Python Exercises, PHP exercises.'\n",
    "Expected Output: Python:Exercises::PHP:exercises:"
   ]
  },
  {
   "cell_type": "code",
   "execution_count": 6,
   "id": "97b5acd8",
   "metadata": {},
   "outputs": [
    {
     "name": "stdout",
     "output_type": "stream",
     "text": [
      "Python:is:important:to:become:a:Data:Scientist::Isnt:\n"
     ]
    }
   ],
   "source": [
    "import re\n",
    "\n",
    "text = 'Python is important to become a Data Scientist, Isnt.'\n",
    "reg = re.compile('[\\s,\\.]')\n",
    "sub = reg.sub(':', text)\n",
    "print(sub)"
   ]
  },
  {
   "cell_type": "markdown",
   "id": "70b0f9d5",
   "metadata": {},
   "source": [
    "Question 2-  Create a dataframe using the dictionary below and remove everything (commas (,), !, XXXX, ;, etc.) from the columns except words.\n",
    "Dictionary- {'SUMMARY' : ['hello, world!', 'XXXXX test', '123four, five:; six...']}\n",
    "Expected output-\n",
    "0      hello world\n",
    "1             test\n",
    "2    four five six\n"
   ]
  },
  {
   "cell_type": "code",
   "execution_count": 78,
   "id": "e7542f09",
   "metadata": {
    "scrolled": true
   },
   "outputs": [
    {
     "data": {
      "text/html": [
       "<div>\n",
       "<style scoped>\n",
       "    .dataframe tbody tr th:only-of-type {\n",
       "        vertical-align: middle;\n",
       "    }\n",
       "\n",
       "    .dataframe tbody tr th {\n",
       "        vertical-align: top;\n",
       "    }\n",
       "\n",
       "    .dataframe thead th {\n",
       "        text-align: right;\n",
       "    }\n",
       "</style>\n",
       "<table border=\"1\" class=\"dataframe\">\n",
       "  <thead>\n",
       "    <tr style=\"text-align: right;\">\n",
       "      <th></th>\n",
       "      <th>Summary</th>\n",
       "    </tr>\n",
       "  </thead>\n",
       "  <tbody>\n",
       "    <tr>\n",
       "      <th>0</th>\n",
       "      <td>hello world</td>\n",
       "    </tr>\n",
       "    <tr>\n",
       "      <th>1</th>\n",
       "      <td>test</td>\n",
       "    </tr>\n",
       "    <tr>\n",
       "      <th>2</th>\n",
       "      <td>four five six</td>\n",
       "    </tr>\n",
       "  </tbody>\n",
       "</table>\n",
       "</div>"
      ],
      "text/plain": [
       "         Summary\n",
       "0    hello world\n",
       "1           test\n",
       "2  four five six"
      ]
     },
     "execution_count": 78,
     "metadata": {},
     "output_type": "execute_result"
    }
   ],
   "source": [
    "import re\n",
    "import pandas as pd\n",
    "import numpy as np\n",
    "dictionary={'Summary' : ['hello, world!', 'XXXXX test', '123four, five:; six...']}\n",
    "df=pd.DataFrame(dictionary)\n",
    "for i in df:\n",
    "   df['Summary']=df['Summary'].apply(lambda x: re.sub('[,\\d+:;.!]|X{5}','',x))\n",
    "df"
   ]
  },
  {
   "cell_type": "markdown",
   "id": "2ee692a7",
   "metadata": {},
   "source": [
    "Question 3- Create a function in python to find all words that are at least 4 characters long in a string. The use of the re.compile() method is mandatory."
   ]
  },
  {
   "cell_type": "code",
   "execution_count": 12,
   "id": "dfef819d",
   "metadata": {},
   "outputs": [
    {
     "name": "stdout",
     "output_type": "stream",
     "text": [
      "['Today', 'continuous', 'learning', 'daily', 'reality', 'universities', 'embracing', 'online', 'education', 'meet', 'this', 'demand', 'EduMaster', 'dedicated', 'supporting', 'both', 'educational', 'institutions', 'businesses', 'providing', 'seamless', 'platform', 'Learning', 'Management', 'System', 'combines', 'crucial', 'knowledge', 'with', 'practical', 'experience', 'making', 'education', 'accessible', 'effective', 'everyone']\n"
     ]
    }
   ],
   "source": [
    "import re\n",
    "\n",
    "text = 'Today, continuous learning is a daily reality, and universities are embracing online education to meet this demand. At EduMaster, we\\'re dedicated to supporting both educational institutions and businesses by providing a seamless platform. Our Learning Management System (LMS) combines crucial knowledge with practical experience, making education accessible and effective for everyone.'\n",
    "\n",
    "def find():\n",
    "    pattern = r'\\b\\w{4,25}\\b'\n",
    "    reg = re.compile(pattern)\n",
    "    out = reg.findall(text)\n",
    "    print(out)\n",
    "\n",
    "find()"
   ]
  },
  {
   "cell_type": "markdown",
   "id": "08fea069",
   "metadata": {},
   "source": [
    "Question 4- Create a function in python to find all three, four, and five character words in a string. The use of the re.compile() method is mandatory."
   ]
  },
  {
   "cell_type": "code",
   "execution_count": 16,
   "id": "68e147ae",
   "metadata": {},
   "outputs": [
    {
     "name": "stdout",
     "output_type": "stream",
     "text": [
      "['Today', 'daily', 'and', 'are', 'meet', 'this', 'both', 'and', 'Our', 'LMS', 'with', 'and', 'for']\n"
     ]
    }
   ],
   "source": [
    "import re\n",
    "\n",
    "text = 'Today, continuous learning is a daily reality, and universities are embracing online education to meet this demand. At EduMaster, we\\'re dedicated to supporting both educational institutions and businesses by providing a seamless platform. Our Learning Management System (LMS) combines crucial knowledge with practical experience, making education accessible and effective for everyone.'\n",
    "\n",
    "def find_3():\n",
    "    #pat=re.compile(r'(\\b\\w{3}\\b)|(\\b\\w{4}\\b)|(\\b\\w{5}\\b)')\n",
    "    pat=re.compile(r'\\b\\w{3,5}\\b')\n",
    "    output=pat.findall(text)\n",
    "    print(output)\n",
    "\n",
    "find_3()"
   ]
  },
  {
   "cell_type": "markdown",
   "id": "1c08d328",
   "metadata": {},
   "source": [
    "Question 5- Create a function in Python to remove the parenthesis in a list of strings. The use of the re.compile() method is mandatory.\n",
    "Sample Text: [\"example (.com)\", \"hr@fliprobo (.com)\", \"github (.com)\", \"Hello (Data Science World)\", \"Data (Scientist)\"]\n",
    "Expected Output:\n",
    "example.com\n",
    "hr@fliprobo.com\n",
    "github.com\n",
    "Hello Data Science World\n",
    "Data Scientist\n"
   ]
  },
  {
   "cell_type": "code",
   "execution_count": 17,
   "id": "c59b97c9",
   "metadata": {},
   "outputs": [
    {
     "name": "stdout",
     "output_type": "stream",
     "text": [
      "example.com\n",
      "hr@fliprobo.com\n",
      "github.com\n",
      "HelloDataScienceWorld\n",
      "DataScientist\n"
     ]
    }
   ],
   "source": [
    "Sample_Text= [\"example (.com)\", \"hr@fliprobo (.com)\", \"github (.com)\", \"Hello (Data Science World)\", \"Data (Scientist)\"]\n",
    "\n",
    "def rem_par():\n",
    "    modtext=[]\n",
    "    \n",
    "    for i in Sample_Text:\n",
    "        pat=re.compile('[\\(\\)\\s]')\n",
    "        new=pat.sub('',i)\n",
    "        modtext.append(new)\n",
    "        print(new)\n",
    "rem_par()"
   ]
  },
  {
   "cell_type": "markdown",
   "id": "c208a723",
   "metadata": {},
   "source": [
    "Question 6- Write a python program to remove the parenthesis area from the text stored in the text file using Regular Expression.\n",
    "Sample Text: [\"example (.com)\", \"hr@fliprobo (.com)\", \"github (.com)\", \"Hello (Data Science World)\", \"Data (Scientist)\"]\n",
    "Expected Output: [\"example\", \"hr@fliprobo\", \"github\", \"Hello\", \"Data\"]\n",
    "Note- Store given sample text in the text file and then to remove the parenthesis area from the text.\n"
   ]
  },
  {
   "cell_type": "code",
   "execution_count": 19,
   "id": "d7bbf058",
   "metadata": {},
   "outputs": [
    {
     "name": "stdout",
     "output_type": "stream",
     "text": [
      "\"example\",\"hr@fliprobo\",\"github\",\"Hello\",\"Data\"\n"
     ]
    }
   ],
   "source": [
    "\n",
    "Sample_Text= '\"example (.com)\", \"hr@fliprobo (.com)\", \"github (.com)\", \"Hello (Data Science World)\", \"Data (Scientist)\"'\n",
    "com=re.compile('(\\(\\.\\w+\\))|(\\(\\w+ \\w+ \\w+\\))|(\\(\\w+\\))|(\\s)')\n",
    "out=com.sub('',Sample_Text)\n",
    "print(out)"
   ]
  },
  {
   "cell_type": "markdown",
   "id": "7e2001aa",
   "metadata": {},
   "source": [
    "Question 7- Write a regular expression in Python to split a string into uppercase letters.\n",
    "Sample text: “ImportanceOfRegularExpressionsInPython”\n",
    "Expected Output: [‘Importance’, ‘Of’, ‘Regular’, ‘Expression’, ‘In’, ‘Python’]\n"
   ]
  },
  {
   "cell_type": "code",
   "execution_count": 21,
   "id": "7b82c420",
   "metadata": {},
   "outputs": [
    {
     "name": "stdout",
     "output_type": "stream",
     "text": [
      "['Importance', 'Of', 'Regular', 'Expressions', 'In', 'Python']\n"
     ]
    }
   ],
   "source": [
    "Stext=\"ImportanceOfRegularExpressionsInPython\"\n",
    "sp=filter(None,re.split(r'(?=[A-Z])',Stext))\n",
    "print(list(sp))"
   ]
  },
  {
   "cell_type": "markdown",
   "id": "d6383423",
   "metadata": {},
   "source": [
    "Question 8- Create a function in python to insert spaces between words starting with numbers.\n",
    "Sample Text: “RegularExpression1IsAn2ImportantTopic3InPython\"\n",
    "Expected Output: RegularExpression 1IsAn 2ImportantTopic 3InPython\n"
   ]
  },
  {
   "cell_type": "code",
   "execution_count": 22,
   "id": "0360b1d3",
   "metadata": {},
   "outputs": [
    {
     "name": "stdout",
     "output_type": "stream",
     "text": [
      "RegularExpression 1IsAn 2ImportantTopic 3InPython\n"
     ]
    }
   ],
   "source": [
    "Text= 'RegularExpression1IsAn2ImportantTopic3InPython'\n",
    "def cap():\n",
    "    split=re.sub(r'((?=[0-9]))',' ',Text)\n",
    "    print(split)\n",
    "cap() "
   ]
  },
  {
   "cell_type": "markdown",
   "id": "2f9c79ac",
   "metadata": {},
   "source": [
    "Question 9- Create a function in python to insert spaces between words starting with capital letters or with numbers.\n",
    "Sample Text: “RegularExpression1IsAn2ImportantTopic3InPython\"\n",
    "Expected Output:  RegularExpression 1 IsAn 2 ImportantTopic 3 InPython\n"
   ]
  },
  {
   "cell_type": "code",
   "execution_count": 23,
   "id": "f3bcdf8b",
   "metadata": {},
   "outputs": [
    {
     "name": "stdout",
     "output_type": "stream",
     "text": [
      " Regular Expression 1 Is An 2 Important Topic 3 In Python\n"
     ]
    }
   ],
   "source": [
    "Text= 'RegularExpression1IsAn2ImportantTopic3InPython'\n",
    "def cap():\n",
    "    split=re.sub(r'((?=[A-Z0-9]))',' ',Text)\n",
    "    print(split)\n",
    "cap() "
   ]
  },
  {
   "cell_type": "code",
   "execution_count": 29,
   "id": "04b7781a",
   "metadata": {},
   "outputs": [
    {
     "data": {
      "text/plain": [
       "'1.5.3'"
      ]
     },
     "execution_count": 29,
     "metadata": {},
     "output_type": "execute_result"
    }
   ],
   "source": [
    "import pandas\n",
    "pandas .__version__"
   ]
  },
  {
   "cell_type": "markdown",
   "id": "e8a9d87f",
   "metadata": {},
   "source": [
    "Question 10- Use the github link below to read the data and create a dataframe. After creating the dataframe extract the first 6 letters of each country and store in the dataframe under a new column called first_five_letters.\n",
    "Github Link-  https://raw.githubusercontent.com/dsrscientist/DSData/master/happiness_score_dataset.csv\n"
   ]
  },
  {
   "cell_type": "markdown",
   "id": "6ecac3d8",
   "metadata": {},
   "source": [
    "Question 11- Write a Python program to match a string that contains only upper and lowercase letters, numbers, and underscores."
   ]
  },
  {
   "cell_type": "code",
   "execution_count": 32,
   "id": "f7c6d40b",
   "metadata": {},
   "outputs": [
    {
     "name": "stdout",
     "output_type": "stream",
     "text": [
      "Match found [Hello_world]\n",
      "The string [you+are+awe$ome] does not match\n",
      "The string [ALFA&OMEGA] does not match\n",
      "Match found [PEE_KA_boo]\n",
      "Match found [123_Mic_check]\n"
     ]
    }
   ],
   "source": [
    "text=[\"Hello_world\",\"you+are+awe$ome\",\"ALFA&OMEGA\",\"PEE_KA_boo\",\"123_Mic_check\"]\n",
    "def match_string(m):\n",
    "    if re.match('^[A-Za-z0-9_]+$',m):\n",
    "        print(f\"Match found [{m}]\")\n",
    "    else:\n",
    "        print(f\"The string [{m}] does not match\")\n",
    "for str in text:  \n",
    "    match_string(str)"
   ]
  },
  {
   "cell_type": "markdown",
   "id": "1c7d0fb0",
   "metadata": {},
   "source": [
    "Question 12- Write a Python program where a string will start with a specific number. "
   ]
  },
  {
   "cell_type": "code",
   "execution_count": 33,
   "id": "5eedfdf9",
   "metadata": {},
   "outputs": [
    {
     "name": "stdout",
     "output_type": "stream",
     "text": [
      "Match found [1Hello_universe]\n",
      "[4I+know+you+are+awe$ome] does not match the pattern\n",
      "[7ALPHA&GAMA] does not match the pattern\n",
      "[9DIM_DIM_Chik] does not match the pattern\n",
      "Match found [123_Hello_World]\n"
     ]
    }
   ],
   "source": [
    "text=[\"1Hello_universe\",\"4I+know+you+are+awe$ome\",\"7ALPHA&GAMA\",\"9DIM_DIM_Chik\",\"123_Hello_World\"]\n",
    "pat=re.compile(r'^[123]')\n",
    "\n",
    "def num_match(s):\n",
    "    if re.match(pat,s):\n",
    "        print(f\"Match found [{s}]\")\n",
    "    \n",
    "    else:\n",
    "        print(f\"[{s}] does not match the pattern\")\n",
    "        \n",
    "for i in text:\n",
    "    num_match(i)"
   ]
  },
  {
   "cell_type": "markdown",
   "id": "0a2fb27d",
   "metadata": {},
   "source": [
    "Question 13- Write a Python program to remove leading zeros from an IP address"
   ]
  },
  {
   "cell_type": "code",
   "execution_count": 34,
   "id": "28215bd9",
   "metadata": {},
   "outputs": [
    {
     "data": {
      "text/plain": [
       "'109.800.1.40'"
      ]
     },
     "execution_count": 34,
     "metadata": {},
     "output_type": "execute_result"
    }
   ],
   "source": [
    "l=\"109.800.001.040\"\n",
    "pat=re.compile('(?<=\\.|^ )0+(?=[0-9])')\n",
    "match=pat.sub('',l)\n",
    "match"
   ]
  },
  {
   "cell_type": "markdown",
   "id": "7d25f740",
   "metadata": {},
   "source": [
    "Question 14- Write a regular expression in python to match a date string in the form of Month name followed by day number and year stored in a text file.\n",
    "Sample text :  ' On August 15th 1947 that India was declared independent from British colonialism, and the reins of control were handed over to the leaders of the Country’.\n",
    "Expected Output- August 15th 1947\n",
    "Note- Store given sample text in the text file and then extract the date string asked format.\n"
   ]
  },
  {
   "cell_type": "code",
   "execution_count": 39,
   "id": "af68d459",
   "metadata": {},
   "outputs": [
    {
     "name": "stdout",
     "output_type": "stream",
     "text": [
      "August 15th 1947\n"
     ]
    }
   ],
   "source": [
    "import re\n",
    "\n",
    "with open('sample_text.txt', 'r') as file:\n",
    "    text = file.read()\n",
    "\n",
    "pattern = r'\\b(?:January|February|March|April|May|June|July|August|September|October|November|December)\\s+\\d{1,2}(?:st|nd|rd|th)\\s+\\d{4}\\b'\n",
    "\n",
    "date_match = re.search(pattern, text)\n",
    "\n",
    "if date_match:\n",
    "    date_string = date_match.group()\n",
    "    print(date_string)\n",
    "else:\n",
    "    print(\"Date string not found in the text.\")"
   ]
  },
  {
   "cell_type": "markdown",
   "id": "82ea9d9c",
   "metadata": {},
   "source": [
    "Question 15- Write a Python program to search some literals strings in a string. \n",
    "Sample text : 'The quick brown fox jumps over the lazy dog.'\n",
    "Searched words : 'fox', 'dog', 'horse'\n"
   ]
  },
  {
   "cell_type": "code",
   "execution_count": 41,
   "id": "22be7112",
   "metadata": {},
   "outputs": [
    {
     "data": {
      "text/plain": [
       "['fox', 'dog']"
      ]
     },
     "execution_count": 41,
     "metadata": {},
     "output_type": "execute_result"
    }
   ],
   "source": [
    "text = 'The quick brown fox jumps over the lazy dog.'\n",
    "matches=re.findall('(fox|dog|horse)',text)\n",
    "matches"
   ]
  },
  {
   "cell_type": "markdown",
   "id": "049808d3",
   "metadata": {},
   "source": [
    "Question 16- Write a Python program to search a literals string in a string and also find the location within the original string where the pattern occurs\n",
    "Sample text : 'The quick brown fox jumps over the lazy dog.'\n",
    "Searched words : 'fox'\n"
   ]
  },
  {
   "cell_type": "code",
   "execution_count": 42,
   "id": "9dfa6e62",
   "metadata": {},
   "outputs": [
    {
     "name": "stdout",
     "output_type": "stream",
     "text": [
      "Pattern  fox  found at index  16  :  19\n"
     ]
    }
   ],
   "source": [
    "text = 'The quick brown fox jumps over the lazy dog.'\n",
    "pat=re.compile(r'(fox)')\n",
    "loc=pat.finditer(text)\n",
    "\n",
    "for match in loc:\n",
    "    print(\"Pattern \",match.group(),\" found at index \",match.start(),\" : \",match.end())\n",
    "    "
   ]
  },
  {
   "cell_type": "markdown",
   "id": "651abc78",
   "metadata": {},
   "source": [
    "Question 17- Write a Python program to find the substrings within a string.\n",
    "Sample text : 'Python exercises, PHP exercises, C# exercises'\n",
    "Pattern : 'exercises'.\n"
   ]
  },
  {
   "cell_type": "code",
   "execution_count": 43,
   "id": "8ee3bffa",
   "metadata": {},
   "outputs": [
    {
     "name": "stdout",
     "output_type": "stream",
     "text": [
      "The substring 'exercises' is present at 7:16\n",
      "The substring 'exercises' is present at 22:31\n",
      "The substring 'exercises' is present at 36:45\n"
     ]
    }
   ],
   "source": [
    "text='Python exercises, PHP exercises, C# exercises'\n",
    "pat=re.compile('exercises')\n",
    "loc=pat.finditer(text)\n",
    "\n",
    "for mat in loc:\n",
    "    print(\"The substring '{}' is present at {}:{}\".format(mat.group(),mat.start(),mat.end()))"
   ]
  },
  {
   "cell_type": "markdown",
   "id": "d7f73aae",
   "metadata": {},
   "source": [
    "Question 18- Write a Python program to find the occurrence and position of the substrings within a string."
   ]
  },
  {
   "cell_type": "code",
   "execution_count": 45,
   "id": "df6c34b5",
   "metadata": {},
   "outputs": [
    {
     "name": "stdout",
     "output_type": "stream",
     "text": [
      "The no 1 occurrence of substring 'studied' is present at 7:14\n",
      "The no 2 occurrence of substring 'studied' is present at 24:31\n",
      "The no 3 occurrence of substring 'studied' is present at 75:82\n",
      "The no 4 occurrence of substring 'studied' is present at 103:110\n"
     ]
    }
   ],
   "source": [
    "text='He has studied hard and studied in such a way that other student could not studied that way the way he studied'\n",
    "pat=re.compile('studied')\n",
    "loc=pat.finditer(text)\n",
    "i=1\n",
    "for mat in loc:\n",
    "    print(\"The no {} occurrence of substring '{}' is present at {}:{}\".format(i,mat.group(),mat.start(),mat.end()))\n",
    "    i=i+1"
   ]
  },
  {
   "cell_type": "markdown",
   "id": "74922000",
   "metadata": {},
   "source": [
    "Question 19- Write a Python program to convert a date of yyyy-mm-dd format to dd-mm-yyyy format."
   ]
  },
  {
   "cell_type": "code",
   "execution_count": 46,
   "id": "22b58cad",
   "metadata": {},
   "outputs": [
    {
     "name": "stdout",
     "output_type": "stream",
     "text": [
      "13-08-1985\n"
     ]
    }
   ],
   "source": [
    "datestr=\"1985-08-13\"\n",
    "def convert():\n",
    "    sp=re.split('-', datestr)\n",
    "    sp.reverse()\n",
    "    revstr='-'.join(sp)\n",
    "    print(revstr)\n",
    "convert()"
   ]
  },
  {
   "cell_type": "markdown",
   "id": "1bf8a034",
   "metadata": {},
   "source": [
    "Question 20- Create a function in python to find all decimal numbers with a precision of 1 or 2 in a string. The use of the re.compile() method is mandatory.\n",
    "Sample Text: \"01.12 0132.123 2.31875 145.8 3.01 27.25 0.25\"\n",
    "Expected Output: ['01.12', '145.8', '3.01', '27.25', '0.25']\n"
   ]
  },
  {
   "cell_type": "code",
   "execution_count": 47,
   "id": "a688901e",
   "metadata": {},
   "outputs": [
    {
     "name": "stdout",
     "output_type": "stream",
     "text": [
      "['01.12', '145.8', '3.01', '27.25', '0.25']\n"
     ]
    }
   ],
   "source": [
    "Text=\"01.12 0132.123 2.31875 145.8 3.01 27.25 0.25\"\n",
    "def find_D():\n",
    "    pat=re.compile(r'\\b\\d+\\.\\d{1,2}\\b')\n",
    "    sp=pat.findall(Text)\n",
    "    print(sp)\n",
    "find_D() "
   ]
  },
  {
   "cell_type": "markdown",
   "id": "8d53bf37",
   "metadata": {},
   "source": [
    "Question 21- Write a Python program to separate and print the numbers and their position of a given string"
   ]
  },
  {
   "cell_type": "code",
   "execution_count": 48,
   "id": "2bb5ecde",
   "metadata": {},
   "outputs": [
    {
     "name": "stdout",
     "output_type": "stream",
     "text": [
      "Found 1 at 15:16\n",
      "Found 2 at 26:27\n",
      "Found 3 at 43:44\n"
     ]
    }
   ],
   "source": [
    "text= 'MitchelleKhanna1Islearning2anImportantTopic3InPython'\n",
    "spl=re.split('',text)\n",
    "mat=re.finditer('\\d{1}',text)\n",
    "for i in mat:\n",
    "    print(\"Found {} at {}:{}\".format(i.group(),i.start(),i.end()))"
   ]
  },
  {
   "cell_type": "markdown",
   "id": "2aadfcd9",
   "metadata": {},
   "source": [
    "Question 22- Write a regular expression in python program to extract maximum/largest numeric value from a string.\n",
    "Sample Text:  'My marks in each semester are: 947, 896, 926, 524, 734, 950, 642'\n",
    "Expected Output: 950\n"
   ]
  },
  {
   "cell_type": "code",
   "execution_count": 49,
   "id": "90da8ea9",
   "metadata": {},
   "outputs": [
    {
     "name": "stdout",
     "output_type": "stream",
     "text": [
      "950\n"
     ]
    }
   ],
   "source": [
    "text='My marks in each semester are: 947, 896, 926, 524, 734, 950, 642'\n",
    "pat=re.compile('\\d+')\n",
    "match=pat.findall(text)\n",
    "print(max(match))"
   ]
  },
  {
   "cell_type": "markdown",
   "id": "9f4fae3e",
   "metadata": {},
   "source": [
    "Question 23- Create a function in python to insert spaces between words starting with capital letters.\n",
    "Sample Text: “RegularExpressionIsAnImportantTopicInPython\"\n",
    "Expected Output: Regular Expression Is An Important Topic In Python\n"
   ]
  },
  {
   "cell_type": "code",
   "execution_count": 60,
   "id": "ef74f87c",
   "metadata": {},
   "outputs": [
    {
     "name": "stdout",
     "output_type": "stream",
     "text": [
      "Mitchelle Khanna Is Learning An Important Topic In Python\n"
     ]
    }
   ],
   "source": [
    "def insert_spaces(text):\n",
    "    result = re.sub(r'(?<!^)([A-Z][a-z])', r' \\1', text)  # Insert space before each word starting with a capital letter\n",
    "    return result\n",
    "\n",
    "sample_text = \"MitchelleKhannaIsLearningAnImportantTopicInPython\"\n",
    "result = insert_spaces(sample_text)\n",
    "print(result)"
   ]
  },
  {
   "cell_type": "markdown",
   "id": "3090b627",
   "metadata": {},
   "source": [
    "Question 24- Python regex to find sequences of one upper case letter followed by lower case letters"
   ]
  },
  {
   "cell_type": "code",
   "execution_count": 62,
   "id": "8ca6e7f3",
   "metadata": {},
   "outputs": [
    {
     "name": "stdout",
     "output_type": "stream",
     "text": [
      "['Mitchelle', 'Khanna', 'Is', 'Learning', 'An', 'Important', 'Topic', 'In', 'Python', 'Check']\n"
     ]
    }
   ],
   "source": [
    "text=\"MitchelleKhannaIsLearningAnImportantTopicInPythonCheck\"\n",
    "match=re.findall('[A-Z][a-z]+',text)\n",
    "print(match)"
   ]
  },
  {
   "cell_type": "markdown",
   "id": "c03295b6",
   "metadata": {},
   "source": [
    "Question 25- Write a Python program to remove continuous duplicate words from Sentence using Regular Expression.\n",
    "Sample Text: \"Hello hello world world\"\n",
    "Expected Output: Hello hello world\n"
   ]
  },
  {
   "cell_type": "code",
   "execution_count": 68,
   "id": "e81a677a",
   "metadata": {},
   "outputs": [
    {
     "name": "stdout",
     "output_type": "stream",
     "text": [
      "Hello hello world\n"
     ]
    }
   ],
   "source": [
    "text=\"Hello hello world world\"\n",
    "sp= re.split(r'\\s+', text)\n",
    "new=[]\n",
    "for i in sp:\n",
    "    if not new or i!=new[-1]:\n",
    "        new.append(i)\n",
    "    \n",
    "result=' '.join(new)\n",
    "print(result)\n"
   ]
  },
  {
   "cell_type": "markdown",
   "id": "e9afe06b",
   "metadata": {},
   "source": [
    "Question 26-  Write a python program using RegEx to accept string ending with alphanumeric character."
   ]
  },
  {
   "cell_type": "code",
   "execution_count": 69,
   "id": "d7386de4",
   "metadata": {},
   "outputs": [
    {
     "data": {
      "text/plain": [
       "['mit123', 'blessings3', '45689']"
      ]
     },
     "execution_count": 69,
     "metadata": {},
     "output_type": "execute_result"
    }
   ],
   "source": [
    "strings = [\"mit123\", \"Hi Universe!\", \"blessings3\", \"45689\", \"?!@#$%^&*()\"]\n",
    "pat=re.compile('\\w$')\n",
    "new=[]\n",
    "for i in strings:\n",
    "    if pat.findall(i):\n",
    "        new.append(i)\n",
    "new"
   ]
  },
  {
   "cell_type": "markdown",
   "id": "25b2cd4e",
   "metadata": {},
   "source": [
    "Question 27-Write a python program using RegEx to extract the hashtags.\n",
    "Sample Text:  \"\"\"RT @kapil_kausik: #Doltiwal I mean #xyzabc is \"hurt\" by #Demonetization as the same has rendered USELESS <ed><U+00A0><U+00BD><ed><U+00B1><U+0089> \"acquired funds\" No wo\"\"\"\n",
    "Expected Output: ['#Doltiwal', '#xyzabc', '#Demonetization']\n"
   ]
  },
  {
   "cell_type": "code",
   "execution_count": 70,
   "id": "fb246fd6",
   "metadata": {},
   "outputs": [
    {
     "name": "stdout",
     "output_type": "stream",
     "text": [
      "['#Doltiwal', '#xyzabc', '#Demonetization']\n"
     ]
    }
   ],
   "source": [
    "Text= '''RT @kapil_kausik: #Doltiwal I mean #xyzabc is \"hurt\" by #Demonetization as the same has rendered \n",
    "USELESS <ed><U+00A0><U+00BD><ed><U+00B1><U+0089> \"acquired funds\" No wo'''\n",
    "match=re.finditer('\\#\\w+',Text)\n",
    "new=[]\n",
    "for i in match:\n",
    "    new.append(i.group())\n",
    "print(new)"
   ]
  },
  {
   "cell_type": "markdown",
   "id": "f585ac50",
   "metadata": {},
   "source": [
    "Question 28- Write a python program using RegEx to remove <U+..> like symbols\n",
    "Check the below sample text, there are strange symbols something of the sort <U+..> all over the place. You need to come up with a general Regex expression that will cover all such symbols.\n",
    "Sample Text: \"@Jags123456 Bharat band on 28??<ed><U+00A0><U+00BD><ed><U+00B8><U+0082>Those who  are protesting #demonetization  are all different party leaders\"\n",
    "Expected Output: @Jags123456 Bharat band on 28??<ed><ed>Those who  are protesting #demonetization  are all different party leaders\n"
   ]
  },
  {
   "cell_type": "code",
   "execution_count": 71,
   "id": "e1171e1b",
   "metadata": {},
   "outputs": [
    {
     "data": {
      "text/plain": [
       "'@Jags123456 Bharat band on 28??<ed><ed>Those who  are protesting #demonetization  are all different party leaders'"
      ]
     },
     "execution_count": 71,
     "metadata": {},
     "output_type": "execute_result"
    }
   ],
   "source": [
    "text= \"@Jags123456 Bharat band on 28??<ed><U+00A0><U+00BD><ed><U+00B8><U+0082>Those who  are protesting #demonetization  are all different party leaders\"\n",
    "sp=re.sub('<\\w+[+|A-Z|0-9]+>','',text)\n",
    "sp"
   ]
  },
  {
   "cell_type": "markdown",
   "id": "99969279",
   "metadata": {},
   "source": [
    "Question 29- Write a python program to extract dates from the text stored in the text file.\n",
    "Sample Text: Ron was born on 12-09-1992 and he was admitted to school 15-12-1999.\n",
    "Note- Store this sample text in the file and then extract dates.\n"
   ]
  },
  {
   "cell_type": "code",
   "execution_count": 76,
   "id": "19592cde",
   "metadata": {},
   "outputs": [
    {
     "data": {
      "text/plain": [
       "['12-09-1992', '15-12-1999']"
      ]
     },
     "execution_count": 76,
     "metadata": {},
     "output_type": "execute_result"
    }
   ],
   "source": [
    "import re\n",
    "with open('sample_text.txt','r+') as file:\n",
    "    text=file.read()\n",
    "    match=re.findall(r'\\d{2}-\\d{2}-\\d{4}',text)\n",
    "match"
   ]
  },
  {
   "cell_type": "markdown",
   "id": "33dd5f68",
   "metadata": {},
   "source": [
    "Question 30- Create a function in python to remove all words from a string of length between 2 and 4.\n",
    "The use of the re.compile() method is mandatory.\n",
    "Sample Text: \"The following example creates an ArrayList with a capacity of 50 elements. 4 elements are then added to the ArrayList and the ArrayList is trimmed accordingly.\"\n",
    "Expected Output:  following example creates ArrayList a capacity elements. 4 elements added ArrayList ArrayList trimmed accordingly."
   ]
  },
  {
   "cell_type": "code",
   "execution_count": 77,
   "id": "218f7096",
   "metadata": {},
   "outputs": [
    {
     "name": "stdout",
     "output_type": "stream",
     "text": [
      " following example creates  ArrayList  a capacity   elements. 4 elements   added   ArrayList   ArrayList  trimmed accordingly.\n"
     ]
    }
   ],
   "source": [
    "text=\"The following example creates an ArrayList with a capacity of 50 elements. 4 elements are then added to the ArrayList and the ArrayList is trimmed accordingly.\"\n",
    "pat=re.compile(r'\\b\\w{2,4}\\b')\n",
    "rem=pat.sub('',text)\n",
    "print(rem)"
   ]
  },
  {
   "cell_type": "code",
   "execution_count": null,
   "id": "c09e20b1",
   "metadata": {},
   "outputs": [],
   "source": []
  }
 ],
 "metadata": {
  "kernelspec": {
   "display_name": "Python 3 (ipykernel)",
   "language": "python",
   "name": "python3"
  },
  "language_info": {
   "codemirror_mode": {
    "name": "ipython",
    "version": 3
   },
   "file_extension": ".py",
   "mimetype": "text/x-python",
   "name": "python",
   "nbconvert_exporter": "python",
   "pygments_lexer": "ipython3",
   "version": "3.11.3"
  }
 },
 "nbformat": 4,
 "nbformat_minor": 5
}
